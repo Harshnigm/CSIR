{
 "cells": [
  {
   "cell_type": "code",
   "execution_count": 1,
   "metadata": {},
   "outputs": [],
   "source": [
    "import numpy as np # linear algebra\n",
    "import pandas as pd # data processing, CSV file I/O (e.g. pd.read_csv)\n",
    "import os\n",
    "import scipy\n",
    "import gc\n",
    "import matplotlib.pyplot as plt\n",
    "import seaborn as sns\n",
    "%matplotlib inline\n"
   ]
  },
  {
   "cell_type": "code",
   "execution_count": 2,
   "metadata": {},
   "outputs": [],
   "source": [
    "#train=pd.read_csv('/home/harsh/Music/train.csv')\n",
    "seizure=np.load('1.npy')\n",
    "nseizure=np.load('0.npy')"
   ]
  },
  {
   "cell_type": "code",
   "execution_count": 3,
   "metadata": {},
   "outputs": [],
   "source": [
    "def normalize(x):\n",
    "    mi=x.min(axis=0)\n",
    "    ma=x.max(axis=0)\n",
    "    x=(x-mi)/(ma-mi)\n",
    "    return x"
   ]
  },
  {
   "cell_type": "code",
   "execution_count": 4,
   "metadata": {},
   "outputs": [],
   "source": [
    "# WE will use 2000 samples from non seizure data and 1000 from seizure\n",
    "#our train set will have 1000 from nonseizure data and test set will have different 1000 from non\n",
    "\n",
    "data=nseizure[0:2000,:] \n",
    "del nseizure\n",
    "data= np.concatenate((data,seizure[0:1000,:] ), axis=0)\n",
    "del seizure\n",
    "\n",
    "\n",
    "#normalizing data\n",
    "data=normalize(data)\n"
   ]
  },
  {
   "cell_type": "code",
   "execution_count": null,
   "metadata": {},
   "outputs": [],
   "source": []
  },
  {
   "cell_type": "code",
   "execution_count": 6,
   "metadata": {},
   "outputs": [],
   "source": [
    "from scipy import signal\n",
    "def smooth_Triangle_dataset(sample):\n",
    "    new_data=np.zeros((7*sample.shape[0],1344))\n",
    "    triangle=signal.triang(1344)\n",
    "    for i in range(sample.shape[0]):\n",
    "        relative_i=i*7\n",
    "        for j in range(7):\n",
    "            col_i=j*672\n",
    "            new_data[relative_i+j,:]=triangle*sample[i,col_i:col_i+1344]\n",
    "            #print(p)\n",
    "            \n",
    "    #print(new_data)\n",
    "    return new_data\n",
    "            \n",
    "    "
   ]
  },
  {
   "cell_type": "code",
   "execution_count": 7,
   "metadata": {},
   "outputs": [],
   "source": [
    "new_dataset=smooth_Triangle_dataset(data) ## Soothing dataset with a triangular window of length 1344\n",
    "\n",
    "#In the paper its given , the frequency relevant to us lies in the range of 1 to 100hz with sampling frequecy 0.25\n",
    "#so a total of 400 are of interst and will be used to calculate dtft.\n",
    "\n",
    "freq_=[]\n",
    "for i in range(400):\n",
    "    freq_.append(i*0.25)"
   ]
  },
  {
   "cell_type": "code",
   "execution_count": null,
   "metadata": {},
   "outputs": [],
   "source": []
  },
  {
   "cell_type": "code",
   "execution_count": 10,
   "metadata": {},
   "outputs": [],
   "source": [
    "# WE cant use scipy dtft function as it doesnt give us value in particualr frequencies range and we already have our\n",
    "#fequency range to calculate dtft on so we have to build our own function.\n",
    "\n",
    "def dtft_0_25(new_dataset,freq_):   # _0_25 just represnt the sampling frequency 0.25\n",
    "    pi=3.1415926535\n",
    "    dataset=np.zeros((new_dataset.shape[0],400))\n",
    "    col_index=0\n",
    "    for i in freq_:\n",
    "        expo_terms=[nm for nm in range(new_dataset.shape[1])]\n",
    "        expo_terms=np.array(expo_terms)\n",
    "        expo_terms=np.exp((-1j*2*expo_terms*pi*i)/new_dataset.shape[1])\n",
    "        samples_fft=new_dataset*expo_terms\n",
    "        samples_fft=samples_fft.sum(axis=1)\n",
    "        samples_power=np.abs(samples_fft)**2\n",
    "        dataset[:,col_index]=samples_power\n",
    "        col_index=col_index+1\n",
    "    return dataset\n",
    "\n",
    "dataset=dtft_0_25(new_dataset)"
   ]
  },
  {
   "cell_type": "markdown",
   "metadata": {},
   "source": []
  },
  {
   "cell_type": "code",
   "execution_count": 11,
   "metadata": {},
   "outputs": [],
   "source": [
    "#normalize the new dataset again, not doing it leads to dataoverflow \n",
    "dataset=normalize(dataset)"
   ]
  },
  {
   "cell_type": "markdown",
   "metadata": {},
   "source": []
  },
  {
   "cell_type": "code",
   "execution_count": 67,
   "metadata": {},
   "outputs": [
    {
     "data": {
      "text/plain": [
       "(21000, 400)"
      ]
     },
     "execution_count": 67,
     "metadata": {},
     "output_type": "execute_result"
    }
   ],
   "source": [
    "#new data has 21000 sampples , 14000 from nonseizure and 7000 from seizure in that order\n",
    "\n",
    "dataset.shape"
   ]
  },
  {
   "cell_type": "code",
   "execution_count": 13,
   "metadata": {},
   "outputs": [],
   "source": [
    "#function for trapezodial smoothing\n",
    "#pls note i have directly taken m=2 from the paper\n",
    "def trap_smooth(data,m):\n",
    "    #calculating cmilaive sum\n",
    "    smoothed=[]\n",
    "    cum_sum=[data[0]]\n",
    "    for i in range(1,data.size):\n",
    "        cum_sum.append(cum_sum[-1]+data[i])\n",
    "    \n",
    "    for i in range(data.size):\n",
    "        if i-m<0 or i+m>=data.size:\n",
    "            smoothed.append(data[i])\n",
    "            continue\n",
    "        \n",
    "        smoothed.append(((data[i-m]+data[i+m])+(cum_sum[i+m-1]-cum_sum[i-m]))/(2*m))\n",
    "    return np.array(smoothed)"
   ]
  },
  {
   "cell_type": "code",
   "execution_count": 14,
   "metadata": {},
   "outputs": [],
   "source": [
    "\n",
    "#smoothing the function sample by sample\n",
    "for i in range(dataset.shape[0]):\n",
    "    dataset[i,:]=trap_smooth(dataset[i,:],2)"
   ]
  },
  {
   "cell_type": "code",
   "execution_count": 68,
   "metadata": {},
   "outputs": [],
   "source": [
    "# okay here we divide our data into train and test set , first 14000 are non seizure so 7000 is put into train\n",
    "#then another 7000 is put into test then another 7000 which is seizure is put into test.\n",
    "#We dont need any seizure data in train as train_set is used to estalish a control_set , then we how far test data \n",
    "#is from the control set and based on distance we calculate its seizure or non seizure, further it is from \n",
    "#control set , higher the chances that it belongs to seizure data.\n",
    "\n",
    "train=dataset[0:7000,:]\n",
    "test=dataset[7000:14000,:]\n",
    "test= np.concatenate((test,dataset[14000:21000,:] ), axis=0)"
   ]
  },
  {
   "cell_type": "markdown",
   "metadata": {},
   "source": []
  },
  {
   "cell_type": "code",
   "execution_count": 73,
   "metadata": {},
   "outputs": [],
   "source": [
    "#THIS FUNCTION HAS NOT BEEEN USED DUE TO HEAVY COMPUTATION THAT ACCOMPANIES IT\n",
    "#pls note , this function is just a template and is incomplete ,if its required in any other work and needs to be \n",
    "#completed , let me know i will complete it.\n",
    "\n",
    "def  spectrum_removal(dataset,lim_b0,lin_b1):  #lim_b1-lim_b0 is the range over which we fit linear regression\n",
    "    \n",
    "    for i in range(0,dataset.size):\n",
    "            lr=model()\n",
    "            lr.train(datase[i,:limb0:limb1],range(s))\n",
    "            pred=lr.pred(s)\n",
    "            datase[i,:]=max(datase[i,:]-pred,0)\n",
    "    return dataset\n",
    "\n"
   ]
  },
  {
   "cell_type": "code",
   "execution_count": 74,
   "metadata": {},
   "outputs": [],
   "source": [
    "#THIS FUNCTION HAS NOT BEEEN USED DUE TO HEAVY COMPUTATION THAT ACCOMPANIES IT\n",
    "def smooth_and_spectral_removal(dataset,m,lim_b0,lim_b1):\n",
    "    for i in range(dataset.shape[0]):\n",
    "        dataset[i,:]=trap_smooth(dataset[i,:],m)\n",
    "    dataset=spectrum_removal(dataset,lim_b0,lim_b1)\n",
    "    return dataset"
   ]
  },
  {
   "cell_type": "code",
   "execution_count": 75,
   "metadata": {},
   "outputs": [],
   "source": [
    "#Please note- i have directly taken f0 and f1 from the paper so this function is not used.\n",
    "def dataset_frequency_based(dataset,f0,f1):\n",
    "    index0=f0/0.25\n",
    "    index1=f1/0.25\n",
    "    return dataset[:,index0:index1+1]\n",
    "    "
   ]
  },
  {
   "cell_type": "code",
   "execution_count": 76,
   "metadata": {},
   "outputs": [],
   "source": [
    "#this function calculates means for each frequency\n",
    "def mean_moments_different_frequencies(dataset):\n",
    "    mean=np.zeros((int(dataset.shape[0]/7),dataset.shape[1]))\n",
    "    for i in range(mean.shape[0]):\n",
    "        mean[i,:]=dataset[i*7:(i*7)+7,:].sum(axis=0)/7\n",
    "        #if (dataset[i*7:(i*7)+7,:].sum(axis=0)/7).sum()!=0:\n",
    "            #print (dataset[i*7:i*7+7,:].sum(axis=0)/7)\n",
    "        \n",
    "    return mean\n",
    "\n",
    "mean=mean_moments_different_frequencies(train)     #for train_set\n",
    "mean_test=mean_moments_different_frequencies(test)   #for test_set\n",
    "    "
   ]
  },
  {
   "cell_type": "code",
   "execution_count": null,
   "metadata": {},
   "outputs": [],
   "source": []
  },
  {
   "cell_type": "markdown",
   "metadata": {},
   "source": [
    "\n",
    "    "
   ]
  },
  {
   "cell_type": "code",
   "execution_count": 77,
   "metadata": {},
   "outputs": [],
   "source": [
    "#u_i_k is the moment with different k, please refer to the paper for info , i have used similar notation\n",
    "def calculate_u_i_k(mean,dataset,k):\n",
    "    u_i_k=np.zeros((mean.shape))\n",
    "    for i in range(mean.shape[0]):\n",
    "        new=np.abs((dataset[i*7:(i*7)+7,:]-mean[i,:]))**k\n",
    "        u_i_k[i,:]=new.sum(axis=0)/7\n",
    "        del new\n",
    "    return u_i_k\n",
    "        \n",
    "#This calculates u_i_k for different k(powers)   \n",
    "#We were supposed to optimize for K , i have direclty taken from the paper\n",
    "def calculate_diff_k(mean,dataset):\n",
    "    diff_k=[]\n",
    "    for i in range(2,9):\n",
    "        diff_k.append(calculate_u_i_k(mean,dataset,i))\n",
    "    return diff_k\n",
    "\n",
    "diff_k=calculate_diff_k(mean,dataset)\n",
    "diff_k_test=calculate_diff_k(mean_test,test)\n",
    "    "
   ]
  },
  {
   "cell_type": "markdown",
   "metadata": {},
   "source": [
    "\n",
    "    "
   ]
  },
  {
   "cell_type": "code",
   "execution_count": null,
   "metadata": {},
   "outputs": [],
   "source": []
  },
  {
   "cell_type": "code",
   "execution_count": 79,
   "metadata": {},
   "outputs": [],
   "source": [
    "import scipy.special as ss\n",
    "e=2.71828\n",
    "\n",
    "#This is the signatue term, it has two variable alpha and power which were to be optimized , i have taken directly\n",
    "#from the paper.\n",
    "\n",
    "def calculate_s_i_k(diff_k,alpha,power,mean):\n",
    "    s_i_k=[np.zeros((diff_k[0].shape)) for i in range(len(diff_k))]\n",
    "    for i in range(len(diff_k)):\n",
    "        const=1+(alpha*((i)/(len(diff_k)-2)))\n",
    "        const_expo=(e/ss.gammainc(i+3,1))**(1/(i+2))\n",
    "        s_i_k[i]=((mean-(((const)*const_expo*(diff_k[i])/(i+2)))**power))\n",
    "        s_i_k[i][s_i_k[i]<0]=0\n",
    "       # diff_k[i]=(mean-diff_k[i]/(i+2))**power\n",
    "    return s_i_k\n",
    "\n",
    "        \n",
    "s_i_k=calculate_s_i_k(diff_k,0.2,2,mean)             #for train\n",
    "s_i_k_test=calculate_s_i_k(diff_k_test,0.2,2,mean_test)        #for test\n",
    "        \n",
    "        "
   ]
  },
  {
   "cell_type": "code",
   "execution_count": null,
   "metadata": {},
   "outputs": [],
   "source": []
  },
  {
   "cell_type": "code",
   "execution_count": 86,
   "metadata": {},
   "outputs": [],
   "source": [
    "#Linearizing signature terms , like all the s_i_k terms that comes from a specific feature vector are put together\n",
    "#in one feature vector\n",
    "\n",
    "def liearizing_s_i(s_i_k):\n",
    "    for i in range(1,len(s_i_k)):\n",
    "        s_i_k[0]=np.concatenate((s_i_k[0], s_i_k[i]), axis=1)\n",
    "    return s_i_k[0]\n",
    "s_i_ln=liearizing_s_i(s_i_k)\n",
    "s_i_ln_test=liearizing_s_i(s_i_k_test)"
   ]
  },
  {
   "cell_type": "code",
   "execution_count": 162,
   "metadata": {},
   "outputs": [
    {
     "name": "stdout",
     "output_type": "stream",
     "text": [
      "(1000, 2800)\n",
      "(2000, 2800)\n"
     ]
    }
   ],
   "source": [
    "print(s_i_ln.shape)\n",
    "print(s_i_ln_test.shape)\n",
    "\n"
   ]
  },
  {
   "cell_type": "markdown",
   "metadata": {},
   "source": [
    "AS we see , now we have orginal number of feature vectors for both train (1000 for train and 2000 for test) and test but with 2800 features."
   ]
  },
  {
   "cell_type": "code",
   "execution_count": 92,
   "metadata": {},
   "outputs": [],
   "source": [
    "# Using PCA for dimensional reduction , from paper 9 new features were created, now on all these 9 features we fit\n",
    "# non unfiform normal function (seperate for positive and negative axis) and then combine the probablities into one\n",
    "# IT WAS NOT CLEAR HOW TO COMBINE THEM SO I JUST AVERAGED.\n",
    "\n",
    "from sklearn.decomposition import PCA\n",
    "s_i_ln=pd.DataFrame(s_i_ln)\n",
    "pca = PCA(n_components=9)\n",
    "pca.fit(s_i_ln)\n",
    "train_set=pca.transform(s_i_ln)\n",
    "test_set=pca.transform(s_i_ln_test)\n",
    "\n",
    "#This part was used to find the residual data after removing the 9 components from he data\n",
    "#It did not improve performance and made it computaionaly heavy so i didnt use though it might work better if i \n",
    "#used more data\n",
    "mean_s = np.mean(s_i_ln, axis=0)\n",
    "nComp = 9\n",
    "reconstruct_s_i_ln = np.dot(pca.transform(s_i_ln)[:,:nComp], pca.components_[:nComp,:])\n",
    "reconstruct_s_i_ln += mean_s"
   ]
  },
  {
   "cell_type": "code",
   "execution_count": null,
   "metadata": {},
   "outputs": [],
   "source": []
  },
  {
   "cell_type": "code",
   "execution_count": 93,
   "metadata": {},
   "outputs": [
    {
     "data": {
      "text/plain": [
       "array([[-0.13653528, -0.04535723, -0.05547397, ...,  0.00247123,\n",
       "        -0.0257348 , -0.00706472],\n",
       "       [ 0.30394748,  0.18901437,  0.03275733, ..., -0.08445261,\n",
       "         0.02474098, -0.09193445],\n",
       "       [-0.1125909 , -0.18523913,  0.10959067, ..., -0.00091957,\n",
       "         0.01303403, -0.07651959],\n",
       "       ..., \n",
       "       [-0.24014   , -0.03117376,  0.0532723 , ...,  0.00327095,\n",
       "         0.02180327,  0.02091265],\n",
       "       [-0.24625252, -0.0495073 , -0.06732599, ..., -0.00996268,\n",
       "        -0.08369353, -0.03426021],\n",
       "       [-0.21895822, -0.18404418, -0.01090979, ...,  0.04058334,\n",
       "        -0.08674293,  0.1343503 ]])"
      ]
     },
     "execution_count": 93,
     "metadata": {},
     "output_type": "execute_result"
    }
   ],
   "source": [
    "#Fitiing the normal om 9 new features individualy , both for egative values and positive values\n",
    "\n",
    "from scipy.stats import norm\n",
    "model_array_pos=[]\n",
    "model_array_neg=[]\n",
    "for i in range(train_set.shape[1]):\n",
    "    mu, std = norm.fit(train_set[:,i][train_set[:,i]>0])\n",
    "    model_array_pos.append((mu,std*10))   #please note std is multiplied by 10 to avoid uderflow\n",
    "    mu, std = norm.fit(train_set[:,i][train_set[:,i]<0])\n",
    "    model_array_neg.append((mu,std*10))\n",
    "    \n",
    "train_set"
   ]
  },
  {
   "cell_type": "code",
   "execution_count": 94,
   "metadata": {},
   "outputs": [],
   "source": [
    "#multivariate_normal , this was for fitting isotrphic normal on residual data , this is not used as said above.\n",
    "left_over=reconstruct_s_i_ln-s_i_ln\n",
    "left_over=np.array(left_over)\n",
    "mean = np.mean(left_over, axis=0)\n",
    "cov = np.cov(left_over, rowvar=0)*10\n",
    "\n",
    "\n",
    "         "
   ]
  },
  {
   "cell_type": "code",
   "execution_count": 95,
   "metadata": {},
   "outputs": [],
   "source": [
    "# Averaging the probalities from 9 features\n",
    "def calculate_avg_probab(x,model_array_pos,model_array_neg):\n",
    "    pr=0\n",
    "    for i in range(x.size):\n",
    "        if x[i]<0:\n",
    "            m,s=model_array_neg[i]\n",
    "        else:\n",
    "            m,s=model_array_pos[i]\n",
    "        pr=pr+scipy.stats.norm.pdf(x[i], m, s)\n",
    "    return pr/9\n",
    "        \n",
    "            \n",
    "        \n",
    "        \n",
    "        \n",
    "        "
   ]
  },
  {
   "cell_type": "code",
   "execution_count": 149,
   "metadata": {},
   "outputs": [],
   "source": [
    "#calculate_avg_probab(train_set[2,:],model_array_pos,model_array_neg)"
   ]
  },
  {
   "cell_type": "code",
   "execution_count": 97,
   "metadata": {},
   "outputs": [],
   "source": [
    "# Calculate the probablities for all the samples\n",
    "def cal_probablities(x):\n",
    "    test_prob=[]\n",
    "    for i in range(x.shape[0]):\n",
    "        test_prob.append((calculate_avg_probab(x[i,:],model_array_pos,model_array_neg)))\n",
    "    test_prob=np.array(test_prob)\n",
    "    #test_prob[test_prob<1]=1\n",
    "    return test_prob"
   ]
  },
  {
   "cell_type": "code",
   "execution_count": 98,
   "metadata": {},
   "outputs": [],
   "source": [
    "#scipy.stats.multivariate_normal.pdf(left_over[7,:], mean=mean, cov=cov)"
   ]
  },
  {
   "cell_type": "code",
   "execution_count": null,
   "metadata": {},
   "outputs": [],
   "source": []
  },
  {
   "cell_type": "code",
   "execution_count": 142,
   "metadata": {},
   "outputs": [],
   "source": [
    "probablities=cal_probablities(test_set)"
   ]
  },
  {
   "cell_type": "code",
   "execution_count": 143,
   "metadata": {},
   "outputs": [
    {
     "data": {
      "text/plain": [
       "<matplotlib.collections.PathCollection at 0x7fd25eec0710>"
      ]
     },
     "execution_count": 143,
     "metadata": {},
     "output_type": "execute_result"
    },
    {
     "data": {
      "image/png": "[encoded data removed]",
      "text/plain": [
       "<matplotlib.figure.Figure at 0x7fd25eed41d0>"
      ]
     },
     "metadata": {},
     "output_type": "display_data"
    }
   ],
   "source": [
    "plt.scatter(range(pl.size),probablities)"
   ]
  },
  {
   "cell_type": "markdown",
   "metadata": {},
   "source": [
    "AS we see , the graph can be distinguished in two parts , left part(uptill 1000 feature vectors) and right part(>1000).\n",
    "\n",
    "We know the first 1000 samples are from nonseizure and rest are seizure data, so our algo is doing quite good.\n",
    "\n",
    "left part is maily spread accross 0.7-0.92 while the right is spread accross 0.75-0.2 , so a threshold is most likely between 0.7 and 0.8 so lets run a simple search too se which thresholdgives the best accuracy."
   ]
  },
  {
   "cell_type": "code",
   "execution_count": 145,
   "metadata": {},
   "outputs": [],
   "source": [
    "def predict_(threshold,probablities):\n",
    "    prediction=probablities>threshold\n",
    "    return prediction\n",
    "def accuracy_calculate(true_values,predicted):\n",
    "    correct=true_values==predicted\n",
    "    accuracy=correct.sum()/correct.shape[0]\n",
    "    return accuracy\n",
    "\n",
    "\n",
    "#BUilding an array that has true labels about the data , if true_value[i]==1 then its nonseizure data otherwise seizure data.\n",
    "true_values=[i for i in range(2000)]\n",
    "true_values=np.array(true_values)\n",
    "true_values[true_values<1000]=1\n",
    "true_values[true_values!=1]=0\n",
    "\n",
    "    \n",
    "def find_threshold(probablities,true_values):\n",
    "    #calculate threshold bw 0.73 to 0.78 with interval 0.00005\n",
    "    max_accuracy=0\n",
    "    final_threshold=0\n",
    "    for i in range(1000):\n",
    "        threshold=0.73+i*0.00005\n",
    "        prediction=predict_(threshold,probablities)\n",
    "        accuracy=accuracy_calculate(true_values,prediction)\n",
    "        if max_accuracy<accuracy:\n",
    "            max_accuracy=accuracy\n",
    "            final_threshold=threshold\n",
    "    return max_accuracy,final_threshold\n",
    "\n",
    "accuracy,threshold=find_threshold(probablities,true_values)\n",
    "        \n",
    "    \n",
    "    "
   ]
  },
  {
   "cell_type": "code",
   "execution_count": 148,
   "metadata": {},
   "outputs": [
    {
     "data": {
      "text/plain": [
       "0.85399999999999998"
      ]
     },
     "execution_count": 148,
     "metadata": {},
     "output_type": "execute_result"
    }
   ],
   "source": [
    "print(accuracy)\n"
   ]
  },
  {
   "cell_type": "code",
   "execution_count": 163,
   "metadata": {},
   "outputs": [
    {
     "name": "stdout",
     "output_type": "stream",
     "text": [
      "0.7797999999999999\n"
     ]
    }
   ],
   "source": [
    "print(threshold)"
   ]
  },
  {
   "cell_type": "markdown",
   "metadata": {},
   "source": [
    "<h1> Report </h1>\n",
    "\n",
    "1) I did not use optimization due to heavy computation , i have taken most of the variable's values directly from paper\n",
    "\n",
    "2)I did not use validation , so our threshold might not work so good on other set , my exams started , if required i can set up validation later.\n",
    "\n",
    "3)Accuracy might get better if used optimization to find variables specific to this data\n",
    "\n",
    "4) I have used a small fraction of data , if required i can use more data after my exams\n",
    "\n",
    "5)In the paper probablity was used to find another term which was used to find threshold , it didnt work so good in this case so i used the direct probality which gave better result.\n",
    "formula used in paper is q=max(1,-0.033log(p)) ---didnt work in this case\n",
    "\n",
    "\n",
    "6)Didnt evaluate ROC curve  characteristic , but i have more false negatives than false positives. "
   ]
  },
  {
   "cell_type": "code",
   "execution_count": null,
   "metadata": {},
   "outputs": [],
   "source": []
  },
  {
   "cell_type": "code",
   "execution_count": null,
   "metadata": {},
   "outputs": [],
   "source": []
  },
  {
   "cell_type": "code",
   "execution_count": null,
   "metadata": {},
   "outputs": [],
   "source": []
  }
 ],
 "metadata": {
  "kernelspec": {
   "display_name": "Python 3",
   "language": "python",
   "name": "python3"
  },
  "language_info": {
   "codemirror_mode": {
    "name": "ipython",
    "version": 3
   },
   "file_extension": ".py",
   "mimetype": "text/x-python",
   "name": "python",
   "nbconvert_exporter": "python",
   "pygments_lexer": "ipython3",
   "version": "3.5.2"
  }
 },
 "nbformat": 4,
 "nbformat_minor": 2
}
